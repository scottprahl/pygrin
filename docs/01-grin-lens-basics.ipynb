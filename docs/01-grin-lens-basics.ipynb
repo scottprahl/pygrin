{
 "cells": [
  {
   "cell_type": "markdown",
   "metadata": {},
   "source": [
    "# Gradient Index Lenses\n",
    "\n",
    "**Scott Prahl**\n",
    "\n",
    "**May 2020**"
   ]
  },
  {
   "cell_type": "code",
   "execution_count": 9,
   "metadata": {
    "scrolled": true
   },
   "outputs": [],
   "source": [
    "import sys\n",
    "import numpy as np\n",
    "import matplotlib.pyplot as plt\n",
    "import matplotlib.patches as patches\n",
    "\n",
    "try:\n",
    "    import pygrin\n",
    "except:\n",
    "    print(\"***** You need to install the pygrin module first           *****\")\n",
    "    print(\"***** Execute the following line in a new cell, then retry *****\")\n",
    "    print()\n",
    "    print(\"!{sys.executable} -m pip install --user pygrin\")"
   ]
  },
  {
   "cell_type": "markdown",
   "metadata": {},
   "source": [
    "## Pitch of a GRIN lens\n",
    "\n",
    "A gradient index (GRIN) lens is characterized by a sinusoidal ray path along the lens.  A lens is typically characterized its **pitch** or the number of sinusoidal periods within the lens.  \n",
    "\n",
    "If the pitch is one (or an integer) then the grin lens acts as a relay and reproduces the light incident on the entrance surface at the exit surface.  A half-pitch inverts the pattern.  A quarter-pitch lens will collimate a point source or focus a collimated incident beam.\n"
   ]
  },
  {
   "cell_type": "code",
   "execution_count": 2,
   "metadata": {},
   "outputs": [
    {
     "ename": "NameError",
     "evalue": "name 'pygrin' is not defined",
     "output_type": "error",
     "traceback": [
      "\u001b[0;31m---------------------------------------------------------------------------\u001b[0m",
      "\u001b[0;31mNameError\u001b[0m                                 Traceback (most recent call last)",
      "\u001b[0;32m<ipython-input-2-46e5acb58980>\u001b[0m in \u001b[0;36m<module>\u001b[0;34m\u001b[0m\n\u001b[1;32m      8\u001b[0m \u001b[0;34m\u001b[0m\u001b[0m\n\u001b[1;32m      9\u001b[0m \u001b[0;31m# max angle in air\u001b[0m\u001b[0;34m\u001b[0m\u001b[0;34m\u001b[0m\u001b[0;34m\u001b[0m\u001b[0m\n\u001b[0;32m---> 10\u001b[0;31m \u001b[0mmax_angle\u001b[0m \u001b[0;34m=\u001b[0m \u001b[0mpygrin\u001b[0m\u001b[0;34m.\u001b[0m\u001b[0mmax_angle\u001b[0m\u001b[0;34m(\u001b[0m\u001b[0mn0\u001b[0m\u001b[0;34m,\u001b[0m\u001b[0mpitch\u001b[0m\u001b[0;34m,\u001b[0m\u001b[0mlength\u001b[0m\u001b[0;34m,\u001b[0m\u001b[0mdiameter\u001b[0m\u001b[0;34m)\u001b[0m\u001b[0;34m\u001b[0m\u001b[0;34m\u001b[0m\u001b[0m\n\u001b[0m\u001b[1;32m     11\u001b[0m \u001b[0;31m# range of launch angles\u001b[0m\u001b[0;34m\u001b[0m\u001b[0;34m\u001b[0m\u001b[0;34m\u001b[0m\u001b[0m\n\u001b[1;32m     12\u001b[0m \u001b[0mangles\u001b[0m \u001b[0;34m=\u001b[0m \u001b[0mnp\u001b[0m\u001b[0;34m.\u001b[0m\u001b[0mlinspace\u001b[0m\u001b[0;34m(\u001b[0m\u001b[0;34m-\u001b[0m\u001b[0mmax_angle\u001b[0m\u001b[0;34m,\u001b[0m\u001b[0mmax_angle\u001b[0m\u001b[0;34m,\u001b[0m\u001b[0;36m6\u001b[0m\u001b[0;34m)\u001b[0m\u001b[0;34m\u001b[0m\u001b[0;34m\u001b[0m\u001b[0m\n",
      "\u001b[0;31mNameError\u001b[0m: name 'pygrin' is not defined"
     ]
    }
   ],
   "source": [
    "n0 = 1.608              # centerline index of refraction\n",
    "length = 1              # mm\n",
    "diameter = 0.25            # mm\n",
    "angle = 40*np.pi/180 # radians\n",
    "xpos = 0\n",
    "pitch = 1\n",
    "radius = diameter/2\n",
    "\n",
    "# max angle in air\n",
    "max_angle = pygrin.max_angle(n0,pitch,length,diameter)\n",
    "# range of launch angles\n",
    "angles = np.linspace(-max_angle,max_angle,6)\n",
    "# range of launch angles in grin lens\n",
    "angles = np.arcsin(np.sin(angles/n0))\n",
    "\n",
    "plt.subplots(2,1,figsize=(10,10))\n",
    "plt.subplot(2,1,1)\n",
    "for angle in angles:\n",
    "    z,r = pygrin.meridional_curve(n0, pitch, length, xpos, angle)\n",
    "    plt.plot(z,r, lw=0.5)\n",
    "\n",
    "plt.plot([0.25*length,0.25*length],[-radius,radius],':k')\n",
    "plt.plot([0.5*length,0.5*length],[-radius,radius],':k')\n",
    "\n",
    "plt.xticks([0,0.25,0.5,1.0])\n",
    "plt.yticks([])\n",
    "plt.xlabel('Pitch')\n",
    "plt.title('')\n",
    "\n",
    "plt.subplot(2,1,2)\n",
    "for xpos in np.linspace(-radius,radius,6):\n",
    "    z,r = pygrin.meridional_curve(n0, pitch, length, xpos, 0)\n",
    "    plt.plot(z,r, lw=0.5)\n",
    "\n",
    "plt.plot([0.25*length,0.25*length],[-radius,radius],':k')\n",
    "plt.plot([0.5*length,0.5*length],[-radius,radius],':k')\n",
    "\n",
    "plt.xticks([0,0.25,0.5,1.0])\n",
    "plt.yticks([])\n",
    "plt.xlabel('Pitch')\n",
    "plt.title('')\n",
    "\n",
    "plt.show()\n"
   ]
  },
  {
   "cell_type": "markdown",
   "metadata": {},
   "source": [
    "### Quarter Pitch\n",
    "\n",
    "This is the typical example because collimated light is focused to a point, or conversely, a point source is collimated.  Here we see an example the former."
   ]
  },
  {
   "cell_type": "code",
   "execution_count": null,
   "metadata": {
    "scrolled": true
   },
   "outputs": [],
   "source": [
    "pitch = 0.25 \n",
    "n0 = 1.608              # centerline index of refraction\n",
    "length = 5              # mm\n",
    "diameter = 2            # mm\n",
    "angle = 0*np.pi/180     # radians\n",
    "\n",
    "pygrin.plot_principal_planes(n0, pitch, length, diameter)\n",
    "xpos = np.linspace(-diameter/2,diameter/2,9)\n",
    "for pos in xpos:\n",
    "    z,r = pygrin.meridional_curve(n0, pitch, length, pos, angle)\n",
    "    plt.plot(z,r, color='blue',lw=0.5)\n",
    "\n",
    "plt.rcParams[\"figure.figsize\"] = [10,3]\n",
    "plt.axis('off')\n",
    "plt.show()"
   ]
  },
  {
   "cell_type": "markdown",
   "metadata": {},
   "source": [
    "This shows light being collimated from a point source"
   ]
  },
  {
   "cell_type": "code",
   "execution_count": null,
   "metadata": {},
   "outputs": [],
   "source": [
    "pitch = 0.25 \n",
    "n0 = 1.608              # centerline index of refraction\n",
    "length = 5              # mm\n",
    "diameter = 2            # mm\n",
    "xpos = 0                # mm\n",
    "\n",
    "pygrin.plot_principal_planes(n0, pitch, length, diameter)\n",
    "\n",
    "# max angle in air\n",
    "max_angle = pygrin.max_angle(n0,pitch,length,diameter)\n",
    "# range of launch angles\n",
    "angles = np.linspace(-max_angle,max_angle,9)\n",
    "# range of launch angles in grin lens\n",
    "angles = np.arcsin(np.sin(angles/n0))\n",
    "\n",
    "for angle in angles:\n",
    "    z,r = pygrin.meridional_curve(n0, pitch, length, xpos, angle)\n",
    "    plt.plot(z,r, color='blue',lw=0.5)\n",
    "\n",
    "plt.rcParams[\"figure.figsize\"] = [10,3]\n",
    "plt.axis('off')\n",
    "plt.show()"
   ]
  },
  {
   "cell_type": "markdown",
   "metadata": {},
   "source": [
    "Here is a 4f system.  Here the source on the left is on focal distance from the front face and the "
   ]
  },
  {
   "cell_type": "code",
   "execution_count": null,
   "metadata": {},
   "outputs": [],
   "source": [
    "# 4f system\n",
    "pitch = 0.25 \n",
    "n0 = 1.608              # centerline index of refraction\n",
    "length = 5              # mm\n",
    "diameter = 2            # mm\n",
    "zobj = pygrin.EFL(n0,pitch,length)\n",
    "xpos = np.linspace(-diameter/4,diameter/4,9)\n",
    "\n",
    "pygrin.plot_principal_planes(n0, pitch, length, diameter)\n",
    "\n",
    "for pos in xpos:\n",
    "    z,r = pygrin.full_meridional_curve(n0, pitch, length, -zobj, 0.0, pos)\n",
    "    plt.plot(z,r, color='blue',lw=0.5)\n",
    "\n",
    "plt.rcParams[\"figure.figsize\"] = [10,3]\n",
    "plt.axis('off')\n",
    "plt.show()"
   ]
  },
  {
   "cell_type": "markdown",
   "metadata": {},
   "source": [
    "Finally, this shows that collimated light incident at an angle on the lens will be imaged to a point off-axis."
   ]
  },
  {
   "cell_type": "code",
   "execution_count": null,
   "metadata": {},
   "outputs": [],
   "source": [
    "# off axis launch\n",
    "pitch = 0.25 \n",
    "n0 = 1.608              # centerline index of refraction\n",
    "length = 5           # mm\n",
    "diameter = 2          # mm\n",
    "zobj = pygrin.EFL(n0,pitch,length)\n",
    "xpos = np.linspace(-diameter/4,diameter/4,9)\n",
    "\n",
    "pygrin.plot_principal_planes(n0, pitch, length, diameter)\n",
    "\n",
    "for pos in xpos:\n",
    "    z,r = pygrin.full_meridional_curve(n0, pitch, length, -zobj, pos-0.1, pos)\n",
    "    plt.plot(z,r, color='blue',lw=0.5)\n",
    "\n",
    "plt.rcParams[\"figure.figsize\"] = [10,3]\n",
    "plt.axis('off')\n",
    "plt.show()"
   ]
  },
  {
   "cell_type": "markdown",
   "metadata": {},
   "source": [
    "### Half Pitch\n",
    "\n",
    "Here we show that all the rays hitting the front surface at a point are imaged to the same point on the exit surface --- but inverted.  \n",
    "\n",
    "The prinicipal planes are not drawn because the effective focal length is infinite."
   ]
  },
  {
   "cell_type": "code",
   "execution_count": null,
   "metadata": {},
   "outputs": [],
   "source": [
    "pitch = 0.5 \n",
    "n0 = 1.608              # centerline index of refraction\n",
    "length = 5              # mm\n",
    "diameter = 2            # mm\n",
    "xpos = 0.5                # mm\n",
    "\n",
    "pygrin.plot_principal_planes(n0, pitch, length, diameter)\n",
    "\n",
    "# max angle in air\n",
    "max_angle = pygrin.max_angle(n0,pitch,length,diameter)\n",
    "# range of launch angles\n",
    "angles = np.linspace(-max_angle,max_angle,9)\n",
    "# range of launch angles in grin lens\n",
    "angles = np.arcsin(np.sin(angles/n0))\n",
    "\n",
    "for angle in angles:\n",
    "    z,r = pygrin.meridional_curve(n0, pitch, length, xpos, angle)\n",
    "    plt.plot(z,r, color='blue',lw=0.5)\n",
    "\n",
    "plt.rcParams[\"figure.figsize\"] = [10,3]\n",
    "plt.axis('off')\n",
    "plt.show()"
   ]
  },
  {
   "cell_type": "markdown",
   "metadata": {},
   "source": [
    "# Index of Refraction Across Lens"
   ]
  },
  {
   "cell_type": "markdown",
   "metadata": {},
   "source": [
    "## Parabolic Profile"
   ]
  },
  {
   "cell_type": "code",
   "execution_count": null,
   "metadata": {},
   "outputs": [],
   "source": [
    "n0 = 1.608\n",
    "pitch = 0.25\n",
    "length = 5    # mm\n",
    "diameter = 2 \n",
    "r = np.linspace(-diameter/2,diameter/2,50)\n",
    "\n",
    "plt.plot(r,pygrin.parabolic_profile_index(n0,pitch,length,r))\n",
    "plt.plot([0,0],[1.53,n0],':k')\n",
    "plt.xlabel('Radius (mm)')\n",
    "plt.ylabel('Index of Refraction')\n",
    "plt.title(r'pitch=%.2f, n$_0$=%.3f, length=%.2fmm'%(pitch,n0,length))\n",
    "plt.rcParams[\"figure.figsize\"] = [6,4]\n",
    "\n",
    "plt.show()"
   ]
  },
  {
   "cell_type": "markdown",
   "metadata": {},
   "source": [
    "## Hyperbolic Secant Profile\n",
    "\n",
    "This has a few advantages over the parabolic profile: the propagation for a HS grin lens can be solved exactly and there aren't any aberrations for meridional rays.\n",
    "\n",
    "As you can see below, the HS profile can be quite close to the parabolic profile."
   ]
  },
  {
   "cell_type": "code",
   "execution_count": null,
   "metadata": {},
   "outputs": [],
   "source": [
    "n0 = 1.608\n",
    "pitch = 0.19\n",
    "length = 5    # mm\n",
    "diameter = 2 \n",
    "gradient = pygrin.gradient(pitch,length)\n",
    "alpha = 1.303*gradient\n",
    "\n",
    "r = np.linspace(-diameter/2,diameter/2,50)\n",
    "\n",
    "plt.subplots(2,1, sharex=True,figsize=(6,6))\n",
    "plt.subplot(2,1,1)\n",
    "n_p = pygrin.parabolic_profile_index(n0,pitch,length,r)\n",
    "n_s = pygrin.hyperbolic_secant_profile_index(n0,alpha,r)\n",
    "plt.plot(r,n_p)\n",
    "plt.plot(r,n_s)\n",
    "plt.xticks([])\n",
    "plt.ylabel('Index of Refraction')\n",
    "plt.title(r'pitch=%.2f, n$_0$=%.3f, length=%.2fmm'%(pitch,n0,length))\n",
    "plt.rcParams[\"figure.figsize\"] = [6,4]\n",
    "\n",
    "plt.subplot(2,1,2)\n",
    "plt.plot(r,n_p-n_s)\n",
    "\n",
    "plt.xlabel('Radius (mm)')\n",
    "plt.ylabel('Difference')\n",
    "plt.plot([-1,1],[0,0],':k')\n",
    "\n",
    "plt.show()"
   ]
  },
  {
   "cell_type": "markdown",
   "metadata": {},
   "source": [
    "# Catalog Examples"
   ]
  },
  {
   "cell_type": "markdown",
   "metadata": {
    "heading_collapsed": true
   },
   "source": [
    "## Grin Lens from ancient Melles Griot Catalog, 4.67 line 2\n",
    "\n",
    "Part number LGS-0.25-1.0-2.58-633"
   ]
  },
  {
   "cell_type": "code",
   "execution_count": null,
   "metadata": {
    "hidden": true
   },
   "outputs": [],
   "source": [
    "n = 1.608 \n",
    "gradient = 0.608 \n",
    "length = 2.58\n",
    "diameter = 1\n",
    "\n",
    "pitch = pygrin.period(gradient, length)\n",
    "print('expected pitch = 0.25,           calculated %.2f'%pitch)\n",
    "\n",
    "efl = pygrin.EFL(n,pitch,length)\n",
    "na = pygrin.NA(n,pitch,length,diameter)\n",
    "print('expected NA = 0.46,              calculated %.2f'%na)\n",
    "\n",
    "angle = pygrin.max_angle(n,pitch,length,diameter)\n",
    "print('expected full accept angle = 55°, calculated %.0f°'%(2*angle*180/np.pi))"
   ]
  },
  {
   "cell_type": "code",
   "execution_count": null,
   "metadata": {
    "hidden": true
   },
   "outputs": [],
   "source": [
    "r = np.linspace(-0.5,0.5,50)\n",
    "plt.plot(r,pygrin.parabolic_profile_index(n,pitch,length,r))\n",
    "plt.xlabel('Radius (mm)')\n",
    "plt.ylabel('Index of Refraction')\n",
    "plt.title('pitch=%.3f, n0=%.3f, L=%.2fmm'%(pitch,n,length))\n",
    "plt.show()"
   ]
  },
  {
   "cell_type": "code",
   "execution_count": null,
   "metadata": {
    "hidden": true
   },
   "outputs": [],
   "source": [
    "pygrin.plot_principal_planes(n, pitch, length, diameter)\n",
    "xpos = np.linspace(-diameter/2,diameter/2,7)\n",
    "for pos in xpos:\n",
    "    z,r = pygrin.meridional_curve(n, pitch, length, pos, 0*np.pi/180)\n",
    "    plt.plot(z,r, color='blue',lw=0.5)\n",
    "\n",
    "plt.title('Melles-Griot LGS-0.25-1.0-2.58-633')\n",
    "plt.show()"
   ]
  },
  {
   "cell_type": "markdown",
   "metadata": {
    "heading_collapsed": true
   },
   "source": [
    "## Grin Lens from ancient Melles Griot Catalog, 4.67 line 5\n",
    "\n",
    "Part number LGE-0.29-1.8-5.37-633"
   ]
  },
  {
   "cell_type": "code",
   "execution_count": null,
   "metadata": {
    "hidden": true
   },
   "outputs": [],
   "source": [
    "n = 1.608 \n",
    "gradient = 0.339 \n",
    "length = 5.37\n",
    "diameter = 1.8\n",
    "\n",
    "pitch = pygrin.period(gradient, length)\n",
    "print('expected pitch = 0.29,            calculated %.2f'%pitch)\n",
    "\n",
    "ffl = pygrin.FFL(n,pitch,length)\n",
    "efl = pygrin.EFL(n,pitch,length)\n",
    "print('expected FFL = 0.46,              calculated %.2f'%ffl)\n",
    "\n",
    "na = pygrin.NA(n,pitch,length,diameter)\n",
    "print('expected NA = 0.46,               calculated %.2f'%na)\n",
    "\n",
    "angle = pygrin.max_angle(n,pitch,length,diameter)\n",
    "print('expected full accept angle = 55°, calculated %.0f°'%(2*angle*180/np.pi))\n",
    "\n",
    "print('working distance = %.2f mm'%(efl-ffl))"
   ]
  },
  {
   "cell_type": "code",
   "execution_count": null,
   "metadata": {
    "hidden": true
   },
   "outputs": [],
   "source": [
    "pygrin.plot_principal_planes(n, pitch, length, diameter)\n",
    "xpos = np.linspace(-diameter/4, diameter/4,8)\n",
    "for pos in xpos:\n",
    "    z,r = pygrin.full_meridional_curve(n, pitch, length, ffl-efl, 0, pos)\n",
    "    plt.plot(z,r, color='blue', lw=0.5)\n",
    "\n",
    "plt.title('Melles-Griot LGE-0.29-1.8-5.37-633')\n",
    "\n",
    "plt.show()"
   ]
  },
  {
   "cell_type": "markdown",
   "metadata": {
    "heading_collapsed": true
   },
   "source": [
    "## Riedl, page 96\n"
   ]
  },
  {
   "cell_type": "code",
   "execution_count": null,
   "metadata": {
    "hidden": true
   },
   "outputs": [],
   "source": [
    "n = 1.5834\n",
    "gradient = np.sqrt(0.1067)\n",
    "length = 4\n",
    "diameter = 1.8\n",
    "\n",
    "pitch = pygrin.period(gradient, length)\n",
    "print('expected pitch = 0.207,          calculated %.3f'%pitch)\n",
    "\n",
    "efl = pygrin.EFL(n,pitch,length)\n",
    "print('expected EFL = 2.00,             calculated %.2f'%efl)\n",
    "\n",
    "ffl = pygrin.FFL(n,pitch,length)\n",
    "print('expected FFL = -0.52,            calculated %.2f'%ffl)\n",
    "\n",
    "bfl = pygrin.BFL(n,pitch,length)\n",
    "print('expected BFL = 4.52,             calculated %.2f'%bfl)\n",
    "\n",
    "na = pygrin.NA(n,pitch,length,diameter)\n",
    "print('expected NA = 0.46,              calculated %.2f'%na)\n",
    "\n",
    "angle = pygrin.max_angle(n,pitch,length,diameter)\n",
    "print('expected full accept angle = 55°, calculated %.0f°'%(2*angle*180/np.pi))\n",
    "\n",
    "print('working distance = %.2f mm'%(-ffl+efl))"
   ]
  },
  {
   "cell_type": "code",
   "execution_count": null,
   "metadata": {
    "hidden": true
   },
   "outputs": [],
   "source": [
    "pygrin.plot_principal_planes(n, pitch, length, diameter)\n",
    "xpos = np.linspace(-diameter/2, diameter/2,7)\n",
    "for pos in xpos:\n",
    "    z,r = pygrin.full_meridional_curve(n, pitch, length, ffl-efl, pos, pos)\n",
    "    plt.plot(z,r, color='blue', lw=0.5)\n",
    "\n",
    "plt.show()"
   ]
  },
  {
   "cell_type": "markdown",
   "metadata": {},
   "source": [
    "# Grin Lenses at Oregon Tech"
   ]
  },
  {
   "cell_type": "markdown",
   "metadata": {
    "heading_collapsed": true
   },
   "source": [
    "## Oriel 41425\n",
    "Designed for 632.8nm"
   ]
  },
  {
   "cell_type": "code",
   "execution_count": null,
   "metadata": {
    "hidden": true
   },
   "outputs": [],
   "source": [
    "n = 1.608\n",
    "pitch = 0.25\n",
    "length = 6.28\n",
    "diameter = 2\n",
    "\n",
    "gradient = pygrin.gradient(pitch, length)\n",
    "print('expected gradient = 0.250,        calculated %.3f'%pitch)\n",
    "\n",
    "efl = pygrin.EFL(n,pitch,length)\n",
    "#print('expected EFL = 2.00,              calculated %.2f'%efl)\n",
    "\n",
    "ffl = pygrin.FFL(n,pitch,length)\n",
    "#print('expected FFL = -0.52,             calculated %.2f'%ffl)\n",
    "\n",
    "bfl = pygrin.BFL(n,pitch,length)\n",
    "#print('expected BFL = 4.52,              calculated %.2f'%bfl)\n",
    "\n",
    "na = pygrin.NA(n,pitch,length,diameter)\n",
    "print('expected NA = 0.38,               calculated %.2f'%na)\n",
    "\n",
    "angle = pygrin.max_angle(n,pitch,length,diameter)\n",
    "print('expected full accept angle = 45°, calculated %.0f°'%(2*angle*180/np.pi))\n",
    "\n",
    "print('working distance = %.2f mm'%(efl-ffl))"
   ]
  },
  {
   "cell_type": "code",
   "execution_count": null,
   "metadata": {
    "hidden": true
   },
   "outputs": [],
   "source": [
    "pygrin.plot_principal_planes(n, pitch, length, diameter)\n",
    "xpos = np.linspace(-diameter/2, diameter/2,7)\n",
    "for pos in xpos:\n",
    "    z,r = pygrin.full_meridional_curve(n, pitch, length, ffl-efl, pos, pos)\n",
    "    plt.plot(z,r, color='blue', lw=0.5)\n",
    "\n",
    "plt.title('Oriel 41425')\n",
    "\n",
    "plt.show()"
   ]
  },
  {
   "cell_type": "markdown",
   "metadata": {},
   "source": [
    "## Oriel 41440\n",
    "Designed for 632.8nm"
   ]
  },
  {
   "cell_type": "code",
   "execution_count": null,
   "metadata": {},
   "outputs": [],
   "source": [
    "n = 1.608\n",
    "pitch = 0.29\n",
    "length = 5.35\n",
    "diameter = 2\n",
    "\n",
    "gradient = pygrin.gradient(pitch, length)\n",
    "print('expected gradient = 0.290,        calculated %.3f'%pitch)\n",
    "\n",
    "efl = pygrin.EFL(n,pitch,length)\n",
    "#print('expected EFL = 2.00,              calculated %.2f'%efl)\n",
    "\n",
    "ffl = pygrin.FFL(n,pitch,length)\n",
    "#print('expected FFL = -0.52,             calculated %.2f'%ffl)\n",
    "\n",
    "bfl = pygrin.BFL(n,pitch,length)\n",
    "#print('expected BFL = 4.52,              calculated %.2f'%bfl)\n",
    "\n",
    "na = pygrin.NA(n,pitch,length,diameter)\n",
    "print('expected NA = 0.38,               calculated %.2f'%na)\n",
    "\n",
    "angle = pygrin.max_angle(n,pitch,length,diameter)\n",
    "print('expected full accept angle = 60°, calculated %.0f°'%(2*angle*180/np.pi))\n",
    "\n",
    "print('working distance = %.2f mm'%(efl-ffl))"
   ]
  },
  {
   "cell_type": "code",
   "execution_count": null,
   "metadata": {},
   "outputs": [],
   "source": [
    "pygrin.plot_principal_planes(n, pitch, length, diameter)\n",
    "xpos = np.linspace(-diameter/4, diameter/4,7)\n",
    "for pos in xpos:\n",
    "    z,r = pygrin.full_meridional_curve(n, pitch, length, ffl-efl, 0, pos)\n",
    "    plt.plot(z,r, color='blue', lw=0.5)\n",
    "\n",
    "plt.title('Oriel 41440')\n",
    "plt.show()"
   ]
  },
  {
   "cell_type": "markdown",
   "metadata": {},
   "source": [
    "## Newport FK - GR29\n",
    "Designed for 850nm"
   ]
  },
  {
   "cell_type": "code",
   "execution_count": null,
   "metadata": {},
   "outputs": [],
   "source": [
    "n = 1.608\n",
    "pitch = 0.29\n",
    "length = 5.49\n",
    "diameter = 1.8\n",
    "\n",
    "gradient = pygrin.gradient(pitch, length)\n",
    "print('expected gradient = 0.290,        calculated %.3f'%pitch)\n",
    "\n",
    "efl = pygrin.EFL(n,pitch,length)\n",
    "print('expected EFL = 1.95,              calculated %.2f'%efl)\n",
    "\n",
    "ffl = pygrin.FFL(n,pitch,length)\n",
    "#print('expected FFL = -0.52,             calculated %.2f'%ffl)\n",
    "\n",
    "bfl = pygrin.BFL(n,pitch,length)\n",
    "#print('expected BFL = 4.52,              calculated %.2f'%bfl)\n",
    "\n",
    "na = pygrin.NA(n,pitch,length,diameter)\n",
    "print('expected NA = 0.46,               calculated %.2f'%na)\n",
    "\n",
    "angle = pygrin.max_angle(n,pitch,length,diameter)\n",
    "print('expected full accept angle = 60°, calculated %.0f°'%(2*angle*180/np.pi))\n",
    "\n",
    "print('working distance = %.2f mm'%(efl-ffl))"
   ]
  },
  {
   "cell_type": "code",
   "execution_count": null,
   "metadata": {},
   "outputs": [],
   "source": [
    "pygrin.plot_principal_planes(n, pitch, length, diameter)\n",
    "xpos = np.linspace(-diameter/4, diameter/4,7)\n",
    "for pos in xpos:\n",
    "    z,r = pygrin.full_meridional_curve(n, pitch, length, ffl-efl, 0, pos)\n",
    "    plt.plot(z,r, color='blue', lw=0.5)\n",
    "\n",
    "plt.title('Newport FK-GR29')\n",
    "plt.show()"
   ]
  }
 ],
 "metadata": {
  "kernelspec": {
   "display_name": "Python 3",
   "language": "python",
   "name": "python3"
  },
  "language_info": {
   "codemirror_mode": {
    "name": "ipython",
    "version": 3
   },
   "file_extension": ".py",
   "mimetype": "text/x-python",
   "name": "python",
   "nbconvert_exporter": "python",
   "pygments_lexer": "ipython3",
   "version": "3.7.6"
  },
  "toc": {
   "nav_menu": {},
   "number_sections": true,
   "sideBar": false,
   "skip_h1_title": false,
   "toc_cell": true,
   "toc_position": {},
   "toc_section_display": "block",
   "toc_window_display": false
  }
 },
 "nbformat": 4,
 "nbformat_minor": 4
}
